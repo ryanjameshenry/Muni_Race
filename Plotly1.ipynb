{
 "cells": [
  {
   "cell_type": "code",
   "execution_count": 4,
   "metadata": {},
   "outputs": [],
   "source": [
    "import plotly.plotly as py\n",
    "import plotly.figure_factory as ff\n",
    "import numpy as np\n",
    "import pandas as pd\n",
    "\n",
    "py.sign_in('ryanjhenry', 'NMuKOojLAVUAxe43Zeqf')"
   ]
  },
  {
   "cell_type": "code",
   "execution_count": 5,
   "metadata": {},
   "outputs": [
    {
     "data": {
      "text/html": [
       "<div>\n",
       "<style scoped>\n",
       "    .dataframe tbody tr th:only-of-type {\n",
       "        vertical-align: middle;\n",
       "    }\n",
       "\n",
       "    .dataframe tbody tr th {\n",
       "        vertical-align: top;\n",
       "    }\n",
       "\n",
       "    .dataframe thead th {\n",
       "        text-align: right;\n",
       "    }\n",
       "</style>\n",
       "<table border=\"1\" class=\"dataframe\">\n",
       "  <thead>\n",
       "    <tr style=\"text-align: right;\">\n",
       "      <th></th>\n",
       "      <th>Fips Code</th>\n",
       "      <th>Fips_Code_T</th>\n",
       "      <th>Geography</th>\n",
       "      <th>2011p</th>\n",
       "      <th>2012p</th>\n",
       "      <th>2013p</th>\n",
       "      <th>2014p</th>\n",
       "      <th>2015p</th>\n",
       "      <th>2016p</th>\n",
       "      <th>2017p</th>\n",
       "      <th>2011pg</th>\n",
       "      <th>2012pg</th>\n",
       "      <th>2013pg</th>\n",
       "      <th>2014pg</th>\n",
       "      <th>2015pg</th>\n",
       "      <th>2016pg</th>\n",
       "      <th>2017pg</th>\n",
       "    </tr>\n",
       "  </thead>\n",
       "  <tbody>\n",
       "    <tr>\n",
       "      <th>0</th>\n",
       "      <td>1001</td>\n",
       "      <td>1001</td>\n",
       "      <td>Autauga County, Alabama</td>\n",
       "      <td>55275</td>\n",
       "      <td>55192</td>\n",
       "      <td>55136</td>\n",
       "      <td>55395</td>\n",
       "      <td>55221.0</td>\n",
       "      <td>55049.0</td>\n",
       "      <td>55036.0</td>\n",
       "      <td>23.137071</td>\n",
       "      <td>20.220436</td>\n",
       "      <td>17.811966</td>\n",
       "      <td>14.532936</td>\n",
       "      <td>13.595409</td>\n",
       "      <td>7.249454</td>\n",
       "      <td>5.020513</td>\n",
       "    </tr>\n",
       "    <tr>\n",
       "      <th>1</th>\n",
       "      <td>1003</td>\n",
       "      <td>1003</td>\n",
       "      <td>Baldwin County, Alabama</td>\n",
       "      <td>186694</td>\n",
       "      <td>190561</td>\n",
       "      <td>195443</td>\n",
       "      <td>200111</td>\n",
       "      <td>195121.0</td>\n",
       "      <td>199510.0</td>\n",
       "      <td>203360.0</td>\n",
       "      <td>28.865574</td>\n",
       "      <td>28.794853</td>\n",
       "      <td>28.997617</td>\n",
       "      <td>28.057927</td>\n",
       "      <td>20.010948</td>\n",
       "      <td>18.670481</td>\n",
       "      <td>17.955500</td>\n",
       "    </tr>\n",
       "    <tr>\n",
       "      <th>2</th>\n",
       "      <td>1005</td>\n",
       "      <td>1005</td>\n",
       "      <td>Barbour County, Alabama</td>\n",
       "      <td>27225</td>\n",
       "      <td>27169</td>\n",
       "      <td>26978</td>\n",
       "      <td>26887</td>\n",
       "      <td>26932.0</td>\n",
       "      <td>26614.0</td>\n",
       "      <td>26201.0</td>\n",
       "      <td>-5.675086</td>\n",
       "      <td>-5.179213</td>\n",
       "      <td>-5.651535</td>\n",
       "      <td>-4.949270</td>\n",
       "      <td>-5.215739</td>\n",
       "      <td>-4.475791</td>\n",
       "      <td>-5.605793</td>\n",
       "    </tr>\n",
       "    <tr>\n",
       "      <th>3</th>\n",
       "      <td>1007</td>\n",
       "      <td>1007</td>\n",
       "      <td>Bibb County, Alabama</td>\n",
       "      <td>22740</td>\n",
       "      <td>22634</td>\n",
       "      <td>22504</td>\n",
       "      <td>22506</td>\n",
       "      <td>22604.0</td>\n",
       "      <td>22572.0</td>\n",
       "      <td>22580.0</td>\n",
       "      <td>8.141526</td>\n",
       "      <td>6.769187</td>\n",
       "      <td>5.163793</td>\n",
       "      <td>3.614014</td>\n",
       "      <td>5.056702</td>\n",
       "      <td>2.140368</td>\n",
       "      <td>0.632855</td>\n",
       "    </tr>\n",
       "    <tr>\n",
       "      <th>4</th>\n",
       "      <td>1009</td>\n",
       "      <td>1009</td>\n",
       "      <td>Blount County, Alabama</td>\n",
       "      <td>57694</td>\n",
       "      <td>57748</td>\n",
       "      <td>57720</td>\n",
       "      <td>57719</td>\n",
       "      <td>57710.0</td>\n",
       "      <td>57704.0</td>\n",
       "      <td>57667.0</td>\n",
       "      <td>11.281705</td>\n",
       "      <td>9.889441</td>\n",
       "      <td>7.974634</td>\n",
       "      <td>6.642155</td>\n",
       "      <td>3.562135</td>\n",
       "      <td>3.999279</td>\n",
       "      <td>2.537340</td>\n",
       "    </tr>\n",
       "  </tbody>\n",
       "</table>\n",
       "</div>"
      ],
      "text/plain": [
       "   Fips Code  Fips_Code_T                Geography   2011p   2012p   2013p  \\\n",
       "0       1001         1001  Autauga County, Alabama   55275   55192   55136   \n",
       "1       1003         1003  Baldwin County, Alabama  186694  190561  195443   \n",
       "2       1005         1005  Barbour County, Alabama   27225   27169   26978   \n",
       "3       1007         1007     Bibb County, Alabama   22740   22634   22504   \n",
       "4       1009         1009   Blount County, Alabama   57694   57748   57720   \n",
       "\n",
       "    2014p     2015p     2016p     2017p     2011pg     2012pg     2013pg  \\\n",
       "0   55395   55221.0   55049.0   55036.0  23.137071  20.220436  17.811966   \n",
       "1  200111  195121.0  199510.0  203360.0  28.865574  28.794853  28.997617   \n",
       "2   26887   26932.0   26614.0   26201.0  -5.675086  -5.179213  -5.651535   \n",
       "3   22506   22604.0   22572.0   22580.0   8.141526   6.769187   5.163793   \n",
       "4   57719   57710.0   57704.0   57667.0  11.281705   9.889441   7.974634   \n",
       "\n",
       "      2014pg     2015pg     2016pg     2017pg  \n",
       "0  14.532936  13.595409   7.249454   5.020513  \n",
       "1  28.057927  20.010948  18.670481  17.955500  \n",
       "2  -4.949270  -5.215739  -4.475791  -5.605793  \n",
       "3   3.614014   5.056702   2.140368   0.632855  \n",
       "4   6.642155   3.562135   3.999279   2.537340  "
      ]
     },
     "execution_count": 5,
     "metadata": {},
     "output_type": "execute_result"
    }
   ],
   "source": [
    "df_sample = pd.read_excel(r'C:\\Users\\ryguy\\Documents\\Cnty Demographics.xlsx')\n",
    "df_sample.head()"
   ]
  },
  {
   "cell_type": "code",
   "execution_count": 6,
   "metadata": {},
   "outputs": [
    {
     "data": {
      "text/plain": [
       "Fips Code      0\n",
       "Fips_Code_T    0\n",
       "Geography      0\n",
       "2011p          0\n",
       "2012p          0\n",
       "2013p          0\n",
       "2014p          0\n",
       "2015p          2\n",
       "2016p          2\n",
       "2017p          2\n",
       "2011pg         0\n",
       "2012pg         0\n",
       "2013pg         0\n",
       "2014pg         0\n",
       "2015pg         5\n",
       "2016pg         3\n",
       "2017pg         2\n",
       "dtype: int64"
      ]
     },
     "execution_count": 6,
     "metadata": {},
     "output_type": "execute_result"
    }
   ],
   "source": [
    "df_sample.isna().sum()\n",
    "# Here I am seeing what missing data we have. I dont think it will mess things up for this project."
   ]
  },
  {
   "cell_type": "code",
   "execution_count": 7,
   "metadata": {},
   "outputs": [
    {
     "name": "stderr",
     "output_type": "stream",
     "text": [
      "C:\\Users\\ryguy\\AppData\\Local\\Continuum\\anaconda3\\lib\\site-packages\\pandas\\core\\frame.py:6692: FutureWarning:\n",
      "\n",
      "Sorting because non-concatenation axis is not aligned. A future version\n",
      "of pandas will change to not sort by default.\n",
      "\n",
      "To accept the future behavior, pass 'sort=False'.\n",
      "\n",
      "To retain the current behavior and silence the warning, pass 'sort=True'.\n",
      "\n",
      "\n"
     ]
    },
    {
     "name": "stdout",
     "output_type": "stream",
     "text": [
      "The draw time for this plot will be slow for clients without much RAM.\n"
     ]
    },
    {
     "name": "stderr",
     "output_type": "stream",
     "text": [
      "C:\\Users\\ryguy\\AppData\\Local\\Continuum\\anaconda3\\lib\\site-packages\\plotly\\api\\v1\\clientresp.py:40: UserWarning:\n",
      "\n",
      "Estimated Draw Time Slow\n",
      "\n"
     ]
    },
    {
     "data": {
      "text/html": [
       "<iframe id=\"igraph\" scrolling=\"no\" style=\"border:none;\" seamless=\"seamless\" src=\"https://plot.ly/~ryanjhenry/2.embed\" height=\"450px\" width=\"900px\"></iframe>"
      ],
      "text/plain": [
       "<plotly.tools.PlotlyDisplay object>"
      ]
     },
     "execution_count": 7,
     "metadata": {},
     "output_type": "execute_result"
    }
   ],
   "source": [
    "colorscale = [\"#f7fbff\", \"#ebf3fb\", \"#deebf7\", \"#d2e3f3\", \"#c6dbef\", \"#b3d2e9\", \"#9ecae1\",\n",
    "    \"#85bcdb\", \"#6baed6\", \"#57a0ce\", \"#4292c6\", \"#3082be\", \"#2171b5\", \"#1361a9\",\n",
    "    \"#08519c\", \"#0b4083\", \"#08306b\"\n",
    "]\n",
    "endpts = list(np.linspace(1, 12, len(colorscale) - 1))\n",
    "fips = df_sample['Fips_Code_T'].tolist()\n",
    "values = df_sample['2017pg'].tolist()\n",
    "\n",
    "fig = ff.create_choropleth(\n",
    "    fips = fips, values = values, scope = ['usa'],\n",
    "    binning_endpoints = endpts, colorscale = colorscale,\n",
    "    show_state_data = False,\n",
    "    show_hover = True, centroid_marker = {\n",
    "        'opacity': 0\n",
    "    },\n",
    "    asp = 2.9,\n",
    "    title = 'USA Population Growth',\n",
    "    legend_title = '10Yr Population Growth %'\n",
    ")\n",
    "py.iplot(fig, filename = 'choropleth_full_usa')"
   ]
  },
  {
   "cell_type": "code",
   "execution_count": null,
   "metadata": {},
   "outputs": [],
   "source": []
  },
  {
   "cell_type": "code",
   "execution_count": 3,
   "metadata": {},
   "outputs": [
    {
     "name": "stderr",
     "output_type": "stream",
     "text": [
      "C:\\Users\\ryguy\\AppData\\Local\\Continuum\\anaconda3\\lib\\site-packages\\pandas\\core\\frame.py:6692: FutureWarning:\n",
      "\n",
      "Sorting because non-concatenation axis is not aligned. A future version\n",
      "of pandas will change to not sort by default.\n",
      "\n",
      "To accept the future behavior, pass 'sort=False'.\n",
      "\n",
      "To retain the current behavior and silence the warning, pass 'sort=True'.\n",
      "\n",
      "\n"
     ]
    },
    {
     "name": "stdout",
     "output_type": "stream",
     "text": [
      "The draw time for this plot will be slow for clients without much RAM.\n"
     ]
    },
    {
     "name": "stderr",
     "output_type": "stream",
     "text": [
      "C:\\Users\\ryguy\\AppData\\Local\\Continuum\\anaconda3\\lib\\site-packages\\plotly\\api\\v1\\clientresp.py:40: UserWarning:\n",
      "\n",
      "Estimated Draw Time Slow\n",
      "\n"
     ]
    },
    {
     "data": {
      "text/html": [
       "<iframe id=\"igraph\" scrolling=\"no\" style=\"border:none;\" seamless=\"seamless\" src=\"https://plot.ly/~ryanjhenry/2.embed\" height=\"450px\" width=\"900px\"></iframe>"
      ],
      "text/plain": [
       "<plotly.tools.PlotlyDisplay object>"
      ]
     },
     "execution_count": 3,
     "metadata": {},
     "output_type": "execute_result"
    }
   ],
   "source": [
    "import plotly.plotly as py\n",
    "import plotly.figure_factory as ff\n",
    "\n",
    "import numpy as np\n",
    "import pandas as pd\n",
    "\n",
    "df_sample = pd.read_csv('https://raw.githubusercontent.com/plotly/datasets/master/laucnty16.csv')\n",
    "df_sample['State FIPS Code'] = df_sample['State FIPS Code'].apply(lambda x: str(x).zfill(2))\n",
    "df_sample['County FIPS Code'] = df_sample['County FIPS Code'].apply(lambda x: str(x).zfill(3))\n",
    "df_sample['FIPS'] = df_sample['State FIPS Code'] + df_sample['County FIPS Code']\n",
    "\n",
    "colorscale = [\"#f7fbff\",\"#ebf3fb\",\"#deebf7\",\"#d2e3f3\",\"#c6dbef\",\"#b3d2e9\",\"#9ecae1\",\n",
    "              \"#85bcdb\",\"#6baed6\",\"#57a0ce\",\"#4292c6\",\"#3082be\",\"#2171b5\",\"#1361a9\",\n",
    "              \"#08519c\",\"#0b4083\",\"#08306b\"]\n",
    "endpts = list(np.linspace(1, 12, len(colorscale) - 1))\n",
    "fips = df_sample['FIPS'].tolist()\n",
    "values = df_sample['Unemployment Rate (%)'].tolist()\n",
    "\n",
    "fig = ff.create_choropleth(\n",
    "    fips=fips, values=values,\n",
    "    binning_endpoints=endpts,\n",
    "    colorscale=colorscale,\n",
    "    show_state_data=False,\n",
    "    show_hover=True, centroid_marker={'opacity': 0},\n",
    "    asp=2.9, title='USA by Unemployment %',\n",
    "    legend_title='% unemployed'\n",
    ")\n",
    "py.iplot(fig, filename='choropleth_full_usa')"
   ]
  },
  {
   "cell_type": "code",
   "execution_count": null,
   "metadata": {},
   "outputs": [],
   "source": []
  },
  {
   "cell_type": "code",
   "execution_count": null,
   "metadata": {},
   "outputs": [],
   "source": []
  },
  {
   "cell_type": "code",
   "execution_count": null,
   "metadata": {},
   "outputs": [],
   "source": []
  }
 ],
 "metadata": {
  "kernelspec": {
   "display_name": "Python 3",
   "language": "python",
   "name": "python3"
  },
  "language_info": {
   "codemirror_mode": {
    "name": "ipython",
    "version": 3
   },
   "file_extension": ".py",
   "mimetype": "text/x-python",
   "name": "python",
   "nbconvert_exporter": "python",
   "pygments_lexer": "ipython3",
   "version": "3.6.4"
  }
 },
 "nbformat": 4,
 "nbformat_minor": 2
}
